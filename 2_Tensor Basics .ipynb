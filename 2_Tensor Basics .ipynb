{
 "cells": [
  {
   "cell_type": "code",
   "execution_count": 2,
   "id": "c6960200",
   "metadata": {},
   "outputs": [],
   "source": [
    "import torch"
   ]
  },
  {
   "cell_type": "code",
   "execution_count": 3,
   "id": "e48f2c3f",
   "metadata": {},
   "outputs": [
    {
     "data": {
      "text/plain": [
       "tensor([0.])"
      ]
     },
     "execution_count": 3,
     "metadata": {},
     "output_type": "execute_result"
    }
   ],
   "source": [
    "#creating the 1 empty tensor \n",
    "torch.empty(1)"
   ]
  },
  {
   "cell_type": "code",
   "execution_count": 4,
   "id": "2bed670e",
   "metadata": {},
   "outputs": [
    {
     "data": {
      "text/plain": [
       "tensor([0., 0., 0.])"
      ]
     },
     "execution_count": 4,
     "metadata": {},
     "output_type": "execute_result"
    }
   ],
   "source": [
    "#creating the 3 empty tensors \n",
    "torch.empty(3)"
   ]
  },
  {
   "cell_type": "code",
   "execution_count": 5,
   "id": "aca7bc92",
   "metadata": {},
   "outputs": [
    {
     "data": {
      "text/plain": [
       "tensor([[1.0286e-38, 9.0919e-39],\n",
       "        [9.3674e-39, 9.2755e-39],\n",
       "        [1.4013e-43, 0.0000e+00]])"
      ]
     },
     "execution_count": 5,
     "metadata": {},
     "output_type": "execute_result"
    }
   ],
   "source": [
    "#creating the enpty tensors in the shape of the 3*2 \n",
    "torch.empty(3,2)"
   ]
  },
  {
   "cell_type": "code",
   "execution_count": 16,
   "id": "ace7d19d",
   "metadata": {},
   "outputs": [
    {
     "data": {
      "text/plain": [
       "(tensor([[[8.9082e-39, 9.9184e-39],\n",
       "          [9.0919e-39, 9.9184e-39],\n",
       "          [1.0286e-38, 1.0194e-38]],\n",
       " \n",
       "         [[1.0469e-38, 1.0010e-38],\n",
       "          [8.4490e-39, 1.1112e-38],\n",
       "          [9.5511e-39, 1.0102e-38]],\n",
       " \n",
       "         [[1.0286e-38, 1.0653e-38],\n",
       "          [1.0194e-38, 4.6838e-39],\n",
       "          [8.4489e-39, 9.6429e-39]],\n",
       " \n",
       "         [[8.4490e-39, 1.0102e-38],\n",
       "          [1.0653e-38, 9.2755e-39],\n",
       "          [1.0653e-38, 9.9184e-39]]]),\n",
       " torch.Size([4, 3, 2]))"
      ]
     },
     "execution_count": 16,
     "metadata": {},
     "output_type": "execute_result"
    }
   ],
   "source": [
    "#creating the empty tensor in the shape of the 4*3*2\n",
    "example_tensor=torch.empty(4,3,2)\n",
    "example_tensor,example_tensor.shape"
   ]
  },
  {
   "cell_type": "code",
   "execution_count": 17,
   "id": "10c1f62b",
   "metadata": {},
   "outputs": [
    {
     "data": {
      "text/plain": [
       "(tensor(9.9184e-39), tensor(9.9184e-39))"
      ]
     },
     "execution_count": 17,
     "metadata": {},
     "output_type": "execute_result"
    }
   ],
   "source": [
    "#accessing the specific element in the tensor \n",
    "example_tensor[0][0][1],example_tensor[0,0,1]"
   ]
  },
  {
   "cell_type": "code",
   "execution_count": 19,
   "id": "2903fb60",
   "metadata": {},
   "outputs": [
    {
     "data": {
      "text/plain": [
       "tensor([[[0., 0.],\n",
       "         [0., 0.],\n",
       "         [0., 0.]],\n",
       "\n",
       "        [[0., 0.],\n",
       "         [0., 0.],\n",
       "         [0., 0.]],\n",
       "\n",
       "        [[0., 0.],\n",
       "         [0., 0.],\n",
       "         [0., 0.]],\n",
       "\n",
       "        [[0., 0.],\n",
       "         [0., 0.],\n",
       "         [0., 0.]]])"
      ]
     },
     "execution_count": 19,
     "metadata": {},
     "output_type": "execute_result"
    }
   ],
   "source": [
    "#creating the tensor with zeros  wth the shape of the 4*3*2\n",
    "torch.zeros(4,3,2)"
   ]
  },
  {
   "cell_type": "code",
   "execution_count": 20,
   "id": "9230be3c",
   "metadata": {},
   "outputs": [
    {
     "data": {
      "text/plain": [
       "tensor([[[1., 1.],\n",
       "         [1., 1.],\n",
       "         [1., 1.]],\n",
       "\n",
       "        [[1., 1.],\n",
       "         [1., 1.],\n",
       "         [1., 1.]],\n",
       "\n",
       "        [[1., 1.],\n",
       "         [1., 1.],\n",
       "         [1., 1.]],\n",
       "\n",
       "        [[1., 1.],\n",
       "         [1., 1.],\n",
       "         [1., 1.]]])"
      ]
     },
     "execution_count": 20,
     "metadata": {},
     "output_type": "execute_result"
    }
   ],
   "source": [
    "#creating the tensor with ones with the shape of the 4*3*2\n",
    "torch.ones(4,3,2)"
   ]
  },
  {
   "cell_type": "code",
   "execution_count": 24,
   "id": "91287504",
   "metadata": {},
   "outputs": [
    {
     "data": {
      "text/plain": [
       "tensor([[[1., 1., 1.],\n",
       "         [1., 1., 1.]],\n",
       "\n",
       "        [[1., 1., 1.],\n",
       "         [1., 1., 1.]],\n",
       "\n",
       "        [[1., 1., 1.],\n",
       "         [1., 1., 1.]],\n",
       "\n",
       "        [[1., 1., 1.],\n",
       "         [1., 1., 1.]]], dtype=torch.float64)"
      ]
     },
     "execution_count": 24,
     "metadata": {},
     "output_type": "execute_result"
    }
   ],
   "source": [
    "#creating the tensor ones with in double datatype with the shpe of the 4*2*3\n",
    "tendor_with_ones_double=torch.ones(4,2,3,dtype=torch.double)\n",
    "tendor_with_ones_double"
   ]
  },
  {
   "cell_type": "code",
   "execution_count": 28,
   "id": "1d3c0051",
   "metadata": {},
   "outputs": [
    {
     "name": "stdout",
     "output_type": "stream",
     "text": [
      "datatype: torch.float64\n",
      "size: torch.Size([4, 2, 3])\n"
     ]
    }
   ],
   "source": [
    "#checking the datatype\n",
    "print(\"datatype:\",tendor_with_ones_double.dtype)\n",
    "#checking the size \n",
    "print(\"size:\",tendor_with_ones_double.size())"
   ]
  },
  {
   "cell_type": "code",
   "execution_count": 29,
   "id": "80f4730e",
   "metadata": {},
   "outputs": [
    {
     "data": {
      "text/plain": [
       "tensor([[[1., 1., 1.],\n",
       "         [1., 1., 1.]],\n",
       "\n",
       "        [[1., 1., 1.],\n",
       "         [1., 1., 1.]],\n",
       "\n",
       "        [[1., 1., 1.],\n",
       "         [1., 1., 1.]],\n",
       "\n",
       "        [[1., 1., 1.],\n",
       "         [1., 1., 1.]]], dtype=torch.float16)"
      ]
     },
     "execution_count": 29,
     "metadata": {},
     "output_type": "execute_result"
    }
   ],
   "source": [
    "#creating the tensor ones with in float16 datatype with the shpe of the 4*2*3\n",
    "tendor_with_ones_double=torch.ones(4,2,3,dtype=torch.float16)\n",
    "tendor_with_ones_double"
   ]
  },
  {
   "cell_type": "code",
   "execution_count": 30,
   "id": "51f1b420",
   "metadata": {},
   "outputs": [
    {
     "name": "stdout",
     "output_type": "stream",
     "text": [
      "datatype: torch.float16\n",
      "size: torch.Size([4, 2, 3])\n"
     ]
    }
   ],
   "source": [
    "#checking the datatype\n",
    "print(\"datatype:\",tendor_with_ones_double.dtype)\n",
    "#checking the size \n",
    "print(\"size:\",tendor_with_ones_double.size())"
   ]
  },
  {
   "cell_type": "code",
   "execution_count": 31,
   "id": "4469cfc2",
   "metadata": {},
   "outputs": [
    {
     "data": {
      "text/plain": [
       "tensor([[[1, 1, 1],\n",
       "         [1, 1, 1]],\n",
       "\n",
       "        [[1, 1, 1],\n",
       "         [1, 1, 1]],\n",
       "\n",
       "        [[1, 1, 1],\n",
       "         [1, 1, 1]],\n",
       "\n",
       "        [[1, 1, 1],\n",
       "         [1, 1, 1]]], dtype=torch.int32)"
      ]
     },
     "execution_count": 31,
     "metadata": {},
     "output_type": "execute_result"
    }
   ],
   "source": [
    "#creating the tensor ones with in int datatype with the shpe of the 4*2*3\n",
    "tendor_with_ones_double=torch.ones(4,2,3,dtype=torch.int)\n",
    "tendor_with_ones_double"
   ]
  },
  {
   "cell_type": "code",
   "execution_count": 32,
   "id": "dc24b556",
   "metadata": {},
   "outputs": [
    {
     "name": "stdout",
     "output_type": "stream",
     "text": [
      "datatype: torch.int32\n",
      "size: torch.Size([4, 2, 3])\n"
     ]
    }
   ],
   "source": [
    "#checking the datatype\n",
    "print(\"datatype:\",tendor_with_ones_double.dtype)\n",
    "#checking the size \n",
    "print(\"size:\",tendor_with_ones_double.size())"
   ]
  },
  {
   "cell_type": "code",
   "execution_count": 33,
   "id": "d8626600",
   "metadata": {},
   "outputs": [
    {
     "data": {
      "text/plain": [
       "tensor([ 1,  2,  3,  4,  5,  6,  7,  8,  9, 10])"
      ]
     },
     "execution_count": 33,
     "metadata": {},
     "output_type": "execute_result"
    }
   ],
   "source": [
    "#creating a tensor from teh list \n",
    "list1=[1,2,3,4,5,6,7,8,9,10]\n",
    "tensor_from_list1=torch.tensor(list1)\n",
    "tensor_from_list1"
   ]
  },
  {
   "cell_type": "code",
   "execution_count": 35,
   "id": "0012ce6d",
   "metadata": {},
   "outputs": [
    {
     "data": {
      "text/plain": [
       "(torch.int64, torch.Size([10]))"
      ]
     },
     "execution_count": 35,
     "metadata": {},
     "output_type": "execute_result"
    }
   ],
   "source": [
    "tensor_from_list1.dtype,tensor_from_list1.size()"
   ]
  },
  {
   "cell_type": "code",
   "execution_count": 36,
   "id": "358cb968",
   "metadata": {},
   "outputs": [
    {
     "data": {
      "text/plain": [
       "tensor([[[0.7420, 0.6554],\n",
       "         [0.2819, 0.8885],\n",
       "         [0.1741, 0.7509]],\n",
       "\n",
       "        [[0.6906, 0.1037],\n",
       "         [0.0811, 0.7457],\n",
       "         [0.1433, 0.2158]],\n",
       "\n",
       "        [[0.4995, 0.4753],\n",
       "         [0.1010, 0.2110],\n",
       "         [0.6208, 0.6675]],\n",
       "\n",
       "        [[0.3890, 0.1785],\n",
       "         [0.7509, 0.4461],\n",
       "         [0.8837, 0.7038]]])"
      ]
     },
     "execution_count": 36,
     "metadata": {},
     "output_type": "execute_result"
    }
   ],
   "source": [
    "#creating the tensor with the random values  with the shape of the 4*2*3\n",
    "torch.rand(4,3,2)"
   ]
  },
  {
   "cell_type": "markdown",
   "id": "a5d7a16a",
   "metadata": {},
   "source": [
    "## basic operation on the tensors "
   ]
  },
  {
   "cell_type": "code",
   "execution_count": 42,
   "id": "ee789f43",
   "metadata": {},
   "outputs": [
    {
     "data": {
      "text/plain": [
       "(tensor([[0.9651, 0.8831, 0.7861, 0.0934],\n",
       "         [0.8111, 0.0937, 0.5211, 0.1255],\n",
       "         [0.7565, 0.9017, 0.0728, 0.6548],\n",
       "         [0.4452, 0.3354, 0.8127, 0.6261]]),\n",
       " tensor([[0.8315, 0.7714, 0.0605, 0.9738],\n",
       "         [0.2529, 0.7127, 0.5168, 0.8370],\n",
       "         [0.7274, 0.6636, 0.1051, 0.2692],\n",
       "         [0.8822, 0.2256, 0.8751, 0.8743]]))"
      ]
     },
     "execution_count": 42,
     "metadata": {},
     "output_type": "execute_result"
    }
   ],
   "source": [
    "#creating the 2 sensors with the name of the x and y teh shape of the x is 4*4 and shape of the y is 4*4 \n",
    "x=torch.rand(4,4)\n",
    "y=torch.rand(4,4)\n",
    "x,y"
   ]
  },
  {
   "cell_type": "code",
   "execution_count": 48,
   "id": "90f115a8",
   "metadata": {},
   "outputs": [
    {
     "data": {
      "text/plain": [
       "tensor([[1.7966, 1.6545, 0.8465, 1.0672],\n",
       "        [1.0641, 0.8064, 1.0380, 0.9625],\n",
       "        [1.4838, 1.5652, 0.1779, 0.9240],\n",
       "        [1.3274, 0.5611, 1.6878, 1.5003]])"
      ]
     },
     "execution_count": 48,
     "metadata": {},
     "output_type": "execute_result"
    }
   ],
   "source": [
    "x+y    #peerform the element wize addtion "
   ]
  },
  {
   "cell_type": "code",
   "execution_count": 44,
   "id": "e0ff488d",
   "metadata": {},
   "outputs": [
    {
     "data": {
      "text/plain": [
       "tensor([[ 0.1336,  0.1116,  0.7256, -0.8804],\n",
       "        [ 0.5582, -0.6190,  0.0043, -0.7115],\n",
       "        [ 0.0291,  0.2381, -0.0323,  0.3855],\n",
       "        [-0.4370,  0.1098, -0.0624, -0.2482]])"
      ]
     },
     "execution_count": 44,
     "metadata": {},
     "output_type": "execute_result"
    }
   ],
   "source": [
    "x-y"
   ]
  },
  {
   "cell_type": "code",
   "execution_count": 45,
   "id": "eeb779e0",
   "metadata": {},
   "outputs": [
    {
     "data": {
      "text/plain": [
       "tensor([[0.8024, 0.6812, 0.0475, 0.0910],\n",
       "        [0.2052, 0.0668, 0.2693, 0.1050],\n",
       "        [0.5502, 0.5983, 0.0076, 0.1763],\n",
       "        [0.3928, 0.0757, 0.7112, 0.5473]])"
      ]
     },
     "execution_count": 45,
     "metadata": {},
     "output_type": "execute_result"
    }
   ],
   "source": [
    "x*y"
   ]
  },
  {
   "cell_type": "code",
   "execution_count": 46,
   "id": "be86964e",
   "metadata": {},
   "outputs": [
    {
     "data": {
      "text/plain": [
       "tensor([[ 1.1607,  1.1447, 13.0034,  0.0960],\n",
       "        [ 3.2067,  0.1315,  1.0083,  0.1499],\n",
       "        [ 1.0400,  1.3589,  0.6927,  2.4319],\n",
       "        [ 0.5047,  1.4865,  0.9287,  0.7161]])"
      ]
     },
     "execution_count": 46,
     "metadata": {},
     "output_type": "execute_result"
    }
   ],
   "source": [
    "x/y"
   ]
  },
  {
   "cell_type": "code",
   "execution_count": 47,
   "id": "07c3c43d",
   "metadata": {},
   "outputs": [
    {
     "data": {
      "text/plain": [
       "tensor([[1.3359e-01, 1.1164e-01, 2.0772e-04, 9.3439e-02],\n",
       "        [5.2286e-02, 9.3702e-02, 4.3063e-03, 1.2550e-01],\n",
       "        [2.9087e-02, 2.3814e-01, 7.2787e-02, 1.1628e-01],\n",
       "        [4.4520e-01, 1.0977e-01, 8.1270e-01, 6.2606e-01]])"
      ]
     },
     "execution_count": 47,
     "metadata": {},
     "output_type": "execute_result"
    }
   ],
   "source": [
    "x%y"
   ]
  },
  {
   "cell_type": "code",
   "execution_count": 50,
   "id": "08944f46",
   "metadata": {},
   "outputs": [
    {
     "name": "stdout",
     "output_type": "stream",
     "text": [
      "y before changing:\n",
      " tensor([[0.8315, 0.7714, 0.0605, 0.9738],\n",
      "        [0.2529, 0.7127, 0.5168, 0.8370],\n",
      "        [0.7274, 0.6636, 0.1051, 0.2692],\n",
      "        [0.8822, 0.2256, 0.8751, 0.8743]])\n",
      "x:\n",
      " tensor([[0.9651, 0.8831, 0.7861, 0.0934],\n",
      "        [0.8111, 0.0937, 0.5211, 0.1255],\n",
      "        [0.7565, 0.9017, 0.0728, 0.6548],\n",
      "        [0.4452, 0.3354, 0.8127, 0.6261]])\n",
      "y:\n",
      " tensor([[0.8315, 0.7714, 0.0605, 0.9738],\n",
      "        [0.2529, 0.7127, 0.5168, 0.8370],\n",
      "        [0.7274, 0.6636, 0.1051, 0.2692],\n",
      "        [0.8822, 0.2256, 0.8751, 0.8743]])\n",
      "y after changing:\n",
      " tensor([[1.7966, 1.6545, 0.8465, 1.0672],\n",
      "        [1.0641, 0.8064, 1.0380, 0.9625],\n",
      "        [1.4838, 1.5652, 0.1779, 0.9240],\n",
      "        [1.3274, 0.5611, 1.6878, 1.5003]])\n"
     ]
    }
   ],
   "source": [
    "print(\"y before changing:\\n\",y)\n",
    "#currently we are adding the x to y  and y is getting modified \n",
    "print(\"x:\\n\",x)\n",
    "print(\"y:\\n\",y)\n",
    "y.add_(x)\n",
    "#every function that has a _ and the ending perform the inplace opertion \n",
    "#inplece operation means the operation that directly changes the content of the data structore and it wont make a copy \n",
    "print(\"y after changing:\\n\",y)"
   ]
  },
  {
   "cell_type": "code",
   "execution_count": 52,
   "id": "31a9a9de",
   "metadata": {},
   "outputs": [
    {
     "name": "stdout",
     "output_type": "stream",
     "text": [
      "y before changing:\n",
      " tensor([[1.7966, 1.6545, 0.8465, 1.0672],\n",
      "        [1.0641, 0.8064, 1.0380, 0.9625],\n",
      "        [1.4838, 1.5652, 0.1779, 0.9240],\n",
      "        [1.3274, 0.5611, 1.6878, 1.5003]])\n",
      "x:\n",
      " tensor([[0.9651, 0.8831, 0.7861, 0.0934],\n",
      "        [0.8111, 0.0937, 0.5211, 0.1255],\n",
      "        [0.7565, 0.9017, 0.0728, 0.6548],\n",
      "        [0.4452, 0.3354, 0.8127, 0.6261]])\n",
      "y:\n",
      " tensor([[1.7966, 1.6545, 0.8465, 1.0672],\n",
      "        [1.0641, 0.8064, 1.0380, 0.9625],\n",
      "        [1.4838, 1.5652, 0.1779, 0.9240],\n",
      "        [1.3274, 0.5611, 1.6878, 1.5003]])\n",
      "y after changing:\n",
      " tensor([[1.7966, 1.6545, 0.8465, 1.0672],\n",
      "        [1.0641, 0.8064, 1.0380, 0.9625],\n",
      "        [1.4838, 1.5652, 0.1779, 0.9240],\n",
      "        [1.3274, 0.5611, 1.6878, 1.5003]])\n",
      "z:\n",
      " tensor([[2.7616, 2.5375, 1.6326, 1.1607],\n",
      "        [1.8752, 0.9001, 1.5591, 1.0880],\n",
      "        [2.2403, 2.4669, 0.2506, 1.5788],\n",
      "        [1.7726, 0.8965, 2.5005, 2.1264]])\n"
     ]
    }
   ],
   "source": [
    "print(\"y before changing:\\n\",y)\n",
    "#currently we are adding the x to y  and y is getting modified \n",
    "print(\"x:\\n\",x)\n",
    "print(\"y:\\n\",y)\n",
    "y.add(x)\n",
    "#every function that has does not end with _ will perform the not-in-place opertion \n",
    "#not-in-place operation means the operation that does not  directly changes the content of the data structore and it make a copy  and perdorm operations\n",
    "z=y.add(x)\n",
    "print(\"y after changing:\\n\",y)\n",
    "print(\"z:\\n\",z)"
   ]
  },
  {
   "cell_type": "code",
   "execution_count": 53,
   "id": "07a0043f",
   "metadata": {},
   "outputs": [
    {
     "data": {
      "text/plain": [
       "tensor([[2.7616, 2.5375, 1.6326, 1.1607],\n",
       "        [1.8752, 0.9001, 1.5591, 1.0880],\n",
       "        [2.2403, 2.4669, 0.2506, 1.5788],\n",
       "        [1.7726, 0.8965, 2.5005, 2.1264]])"
      ]
     },
     "execution_count": 53,
     "metadata": {},
     "output_type": "execute_result"
    }
   ],
   "source": [
    "#we can perform the addtion using teh torch.add() function \n",
    "torch.add(x,y)"
   ]
  },
  {
   "cell_type": "code",
   "execution_count": 54,
   "id": "c9aecba4",
   "metadata": {},
   "outputs": [
    {
     "data": {
      "text/plain": [
       "tensor([[-0.8315, -0.7714, -0.0605, -0.9738],\n",
       "        [-0.2529, -0.7127, -0.5168, -0.8370],\n",
       "        [-0.7274, -0.6636, -0.1051, -0.2692],\n",
       "        [-0.8822, -0.2256, -0.8751, -0.8743]])"
      ]
     },
     "execution_count": 54,
     "metadata": {},
     "output_type": "execute_result"
    }
   ],
   "source": [
    "#suptraction on thh x,y \n",
    "torch.sub(x,y)"
   ]
  },
  {
   "cell_type": "code",
   "execution_count": 56,
   "id": "c2fac8b7",
   "metadata": {},
   "outputs": [
    {
     "data": {
      "text/plain": [
       "tensor([[1.7338, 1.4610, 0.6654, 0.0997],\n",
       "        [0.8631, 0.0756, 0.5409, 0.1208],\n",
       "        [1.1225, 1.4114, 0.0129, 0.6050],\n",
       "        [0.5910, 0.1882, 1.3717, 0.9393]])"
      ]
     },
     "execution_count": 56,
     "metadata": {},
     "output_type": "execute_result"
    }
   ],
   "source": [
    "#multplication on the x,y\n",
    "torch.mul(x,y)"
   ]
  },
  {
   "cell_type": "code",
   "execution_count": 57,
   "id": "d673f540",
   "metadata": {},
   "outputs": [
    {
     "data": {
      "text/plain": [
       "tensor([[0.5372, 0.5337, 0.9286, 0.0876],\n",
       "        [0.7623, 0.1162, 0.5021, 0.1304],\n",
       "        [0.5098, 0.5761, 0.4092, 0.7086],\n",
       "        [0.3354, 0.5978, 0.4815, 0.4173]])"
      ]
     },
     "execution_count": 57,
     "metadata": {},
     "output_type": "execute_result"
    }
   ],
   "source": [
    "#division on the x,y\n",
    "torch.div(x,y)"
   ]
  },
  {
   "cell_type": "code",
   "execution_count": 63,
   "id": "828451a9",
   "metadata": {},
   "outputs": [
    {
     "data": {
      "text/plain": [
       "(tensor([[0.9651, 0.8831, 0.7861, 0.0934],\n",
       "         [0.8111, 0.0937, 0.5211, 0.1255],\n",
       "         [0.7565, 0.9017, 0.0728, 0.6548],\n",
       "         [0.4452, 0.3354, 0.8127, 0.6261]]),\n",
       " tensor([[0.9651, 0.8831, 0.7861, 0.0934],\n",
       "         [0.8111, 0.0937, 0.5211, 0.1255],\n",
       "         [0.7565, 0.9017, 0.0728, 0.6548],\n",
       "         [0.4452, 0.3354, 0.8127, 0.6261]]))"
      ]
     },
     "execution_count": 63,
     "metadata": {},
     "output_type": "execute_result"
    }
   ],
   "source": [
    "#modlus on the x,y \n",
    "torch.fmod(x,y),torch.remainder(x,y)"
   ]
  },
  {
   "cell_type": "code",
   "execution_count": 66,
   "id": "2800e71e",
   "metadata": {},
   "outputs": [
    {
     "name": "stdout",
     "output_type": "stream",
     "text": [
      "tensor(0.9001) 0.9001176953315735\n"
     ]
    }
   ],
   "source": [
    "#to get the item or actual value no  in the tendorformat bot not this item() functiion is onnly ised to get the one value \n",
    "#item will return the actial valie \n",
    "print(z[1][1],z[1][1].item())"
   ]
  },
  {
   "cell_type": "code",
   "execution_count": 68,
   "id": "71b58bde",
   "metadata": {},
   "outputs": [
    {
     "name": "stdout",
     "output_type": "stream",
     "text": [
      "x:\n",
      " tensor([[0.4454, 0.5815, 0.2824, 0.1479, 0.1186],\n",
      "        [0.0706, 0.1945, 0.5902, 0.5273, 0.4170],\n",
      "        [0.6840, 0.3621, 0.6498, 0.3422, 0.1452],\n",
      "        [0.7592, 0.4130, 0.5640, 0.1135, 0.5989],\n",
      "        [0.9749, 0.7486, 0.9934, 0.5295, 0.5923],\n",
      "        [0.5607, 0.4211, 0.0848, 0.3399, 0.0177]])\n",
      "y:\n",
      " tensor([[0.4454, 0.5815, 0.2824, 0.1479, 0.1186, 0.0706],\n",
      "        [0.1945, 0.5902, 0.5273, 0.4170, 0.6840, 0.3621],\n",
      "        [0.6498, 0.3422, 0.1452, 0.7592, 0.4130, 0.5640],\n",
      "        [0.1135, 0.5989, 0.9749, 0.7486, 0.9934, 0.5295],\n",
      "        [0.5923, 0.5607, 0.4211, 0.0848, 0.3399, 0.0177]])\n"
     ]
    }
   ],
   "source": [
    "#reshapeing the tensor using the view function \n",
    "x=torch.rand(6,5)\n",
    "print(\"x:\\n\",x)\n",
    "#reshaping into the 5,6\n",
    "y=x.view(5,6)\n",
    "print(\"y:\\n\",y)"
   ]
  },
  {
   "cell_type": "code",
   "execution_count": 69,
   "id": "9cbdd143",
   "metadata": {},
   "outputs": [
    {
     "name": "stdout",
     "output_type": "stream",
     "text": [
      "x:\n",
      " tensor([[0.7455, 0.6854, 0.4663, 0.2983, 0.7430],\n",
      "        [0.6039, 0.1578, 0.6236, 0.1559, 0.1487],\n",
      "        [0.5098, 0.1865, 0.5603, 0.0660, 0.2557],\n",
      "        [0.5118, 0.4086, 0.0593, 0.1627, 0.3881],\n",
      "        [0.1272, 0.5822, 0.3644, 0.8481, 0.5414],\n",
      "        [0.7958, 0.3566, 0.1425, 0.2377, 0.0509]])\n",
      "y:\n",
      " tensor([[0.7455, 0.6854, 0.4663, 0.2983, 0.7430, 0.6039],\n",
      "        [0.1578, 0.6236, 0.1559, 0.1487, 0.5098, 0.1865],\n",
      "        [0.5603, 0.0660, 0.2557, 0.5118, 0.4086, 0.0593],\n",
      "        [0.1627, 0.3881, 0.1272, 0.5822, 0.3644, 0.8481],\n",
      "        [0.5414, 0.7958, 0.3566, 0.1425, 0.2377, 0.0509]])\n"
     ]
    }
   ],
   "source": [
    "#if you dont know the one dimesnsion means keep -1 in the dimension place means the torch automatically define the dimension\n",
    "#reshapeing the tensor using the view function \n",
    "x=torch.rand(6,5)\n",
    "print(\"x:\\n\",x)\n",
    "#reshaping into the 5,6\n",
    "y=x.view(-1,6)\n",
    "print(\"y:\\n\",y)"
   ]
  },
  {
   "cell_type": "code",
   "execution_count": 73,
   "id": "d426be61",
   "metadata": {},
   "outputs": [
    {
     "name": "stdout",
     "output_type": "stream",
     "text": [
      "x:\n",
      " tensor([[0.7229, 0.8295, 0.3342, 0.5300, 0.0203],\n",
      "        [0.6716, 0.5043, 0.1645, 0.4103, 0.6265],\n",
      "        [0.0982, 0.4376, 0.3149, 0.5036, 0.8440],\n",
      "        [0.1505, 0.5327, 0.6777, 0.0611, 0.0829],\n",
      "        [0.8847, 0.6863, 0.1155, 0.7570, 0.1019],\n",
      "        [0.3297, 0.8253, 0.7124, 0.3914, 0.8084]])\n",
      "y:\n",
      " tensor([[0.7229, 0.8295, 0.3342, 0.5300, 0.0203, 0.6716],\n",
      "        [0.5043, 0.1645, 0.4103, 0.6265, 0.0982, 0.4376],\n",
      "        [0.3149, 0.5036, 0.8440, 0.1505, 0.5327, 0.6777],\n",
      "        [0.0611, 0.0829, 0.8847, 0.6863, 0.1155, 0.7570],\n",
      "        [0.1019, 0.3297, 0.8253, 0.7124, 0.3914, 0.8084]])\n"
     ]
    }
   ],
   "source": [
    "#if you dont know the one dimesnsion means keep -1 in the dimension place means the torch automatically define the dimension\n",
    "#note:use -11 in pnly one place of \n",
    "#reshapeing the tensor using the view function \n",
    "x=torch.rand(6,5)\n",
    "print(\"x:\\n\",x)\n",
    "#reshaping into the 5,6\n",
    "#y=x.view(-1,-1) give error is RuntimeError: only one dimension can be inferred\n",
    "\n",
    "y=x.view(-1,6)\n",
    "print(\"y:\\n\",y)"
   ]
  },
  {
   "cell_type": "code",
   "execution_count": 74,
   "id": "987ff027",
   "metadata": {},
   "outputs": [
    {
     "name": "stdout",
     "output_type": "stream",
     "text": [
      "x:\n",
      " tensor([[0.7234, 0.7848, 0.5144, 0.5782, 0.5466],\n",
      "        [0.9713, 0.1346, 0.8413, 0.3202, 0.6937],\n",
      "        [0.7079, 0.2255, 0.2425, 0.7142, 0.4772],\n",
      "        [0.7706, 0.1741, 0.9916, 0.5251, 0.4033],\n",
      "        [0.5323, 0.4066, 0.7802, 0.5829, 0.2368],\n",
      "        [0.1439, 0.9114, 0.9477, 0.4081, 0.9412]])\n",
      "y:\n",
      " tensor([0.7234, 0.7848, 0.5144, 0.5782, 0.5466, 0.9713, 0.1346, 0.8413, 0.3202,\n",
      "        0.6937, 0.7079, 0.2255, 0.2425, 0.7142, 0.4772, 0.7706, 0.1741, 0.9916,\n",
      "        0.5251, 0.4033, 0.5323, 0.4066, 0.7802, 0.5829, 0.2368, 0.1439, 0.9114,\n",
      "        0.9477, 0.4081, 0.9412])\n"
     ]
    }
   ],
   "source": [
    "\n",
    "#reshapeing the tensor using the view function \n",
    "x=torch.rand(6,5)\n",
    "print(\"x:\\n\",x)\n",
    "#reshaping into the 30\n",
    "#y=x.view(-1) covvert into 2d array  \n",
    "\n",
    "y=x.view(-1)\n",
    "print(\"y:\\n\",y)"
   ]
  },
  {
   "cell_type": "code",
   "execution_count": 80,
   "id": "80fb6615",
   "metadata": {},
   "outputs": [
    {
     "name": "stdout",
     "output_type": "stream",
     "text": [
      "x:\n",
      " tensor([[[0.9327, 0.9062, 0.1722, 0.7810],\n",
      "         [0.5560, 0.1673, 0.6270, 0.9571]],\n",
      "\n",
      "        [[0.8539, 0.0604, 0.8042, 0.1861],\n",
      "         [0.1974, 0.2670, 0.1589, 0.0973]],\n",
      "\n",
      "        [[0.7582, 0.0626, 0.1705, 0.4481],\n",
      "         [0.4694, 0.2104, 0.5623, 0.7067]],\n",
      "\n",
      "        [[0.7878, 0.4691, 0.7026, 0.1559],\n",
      "         [0.5459, 0.2449, 0.9680, 0.4404]],\n",
      "\n",
      "        [[0.8970, 0.1355, 0.3621, 0.9253],\n",
      "         [0.6994, 0.2625, 0.0507, 0.6441]]])\n",
      "y:\n",
      " [[[0.93266076 0.90617365 0.17217654 0.7810274 ]\n",
      "  [0.55599695 0.16727865 0.62696075 0.95709753]]\n",
      "\n",
      " [[0.8539319  0.06036198 0.8042466  0.18606639]\n",
      "  [0.19737983 0.26704228 0.15886033 0.09728122]]\n",
      "\n",
      " [[0.7581944  0.06257385 0.1705162  0.44811106]\n",
      "  [0.46935576 0.21038169 0.56231284 0.70667994]]\n",
      "\n",
      " [[0.78784364 0.46906596 0.70257807 0.1558739 ]\n",
      "  [0.5458936  0.2449072  0.9679984  0.44044763]]\n",
      "\n",
      " [[0.8969552  0.13545412 0.3620587  0.9252836 ]\n",
      "  [0.6994397  0.26247454 0.05067366 0.6440807 ]]] \n",
      " checking tye type of the y: <class 'numpy.ndarray'>\n"
     ]
    }
   ],
   "source": [
    "#converting the numpy to torch tensor \n",
    "import numpy as np\n",
    "#creating the tensor with the shape of the 5*2*4\n",
    "x=torch.rand(5,2,4)\n",
    "print(\"x:\\n\",x)\n",
    "#converting the x into numpy \n",
    "y=x.numpy().copy() #if you dont use the copy  function means the x,y will shape the same memory location later if we chang x automatically y wwill also change so that's why we use the xopy fuction to avoid this  \n",
    "print(\"y:\\n\",y,\"\\n checking tye type of the y:\",type(y))"
   ]
  },
  {
   "cell_type": "code",
   "execution_count": 81,
   "id": "8d443a5d",
   "metadata": {},
   "outputs": [
    {
     "name": "stdout",
     "output_type": "stream",
     "text": [
      "tensor([[[1.9327, 1.9062, 1.1722, 1.7810],\n",
      "         [1.5560, 1.1673, 1.6270, 1.9571]],\n",
      "\n",
      "        [[1.8539, 1.0604, 1.8042, 1.1861],\n",
      "         [1.1974, 1.2670, 1.1589, 1.0973]],\n",
      "\n",
      "        [[1.7582, 1.0626, 1.1705, 1.4481],\n",
      "         [1.4694, 1.2104, 1.5623, 1.7067]],\n",
      "\n",
      "        [[1.7878, 1.4691, 1.7026, 1.1559],\n",
      "         [1.5459, 1.2449, 1.9680, 1.4404]],\n",
      "\n",
      "        [[1.8970, 1.1355, 1.3621, 1.9253],\n",
      "         [1.6994, 1.2625, 1.0507, 1.6441]]]) [[[0.93266076 0.90617365 0.17217654 0.7810274 ]\n",
      "  [0.55599695 0.16727865 0.62696075 0.95709753]]\n",
      "\n",
      " [[0.8539319  0.06036198 0.8042466  0.18606639]\n",
      "  [0.19737983 0.26704228 0.15886033 0.09728122]]\n",
      "\n",
      " [[0.7581944  0.06257385 0.1705162  0.44811106]\n",
      "  [0.46935576 0.21038169 0.56231284 0.70667994]]\n",
      "\n",
      " [[0.78784364 0.46906596 0.70257807 0.1558739 ]\n",
      "  [0.5458936  0.2449072  0.9679984  0.44044763]]\n",
      "\n",
      " [[0.8969552  0.13545412 0.3620587  0.9252836 ]\n",
      "  [0.6994397  0.26247454 0.05067366 0.6440807 ]]]\n"
     ]
    }
   ],
   "source": [
    "x.add_(1)\n",
    "print(x,y)"
   ]
  },
  {
   "cell_type": "code",
   "execution_count": 82,
   "id": "70193c90",
   "metadata": {},
   "outputs": [
    {
     "name": "stdout",
     "output_type": "stream",
     "text": [
      "x:\n",
      " tensor([[[0.9972, 0.6100, 0.5276, 0.1053],\n",
      "         [0.8287, 0.6892, 0.1478, 0.5628]],\n",
      "\n",
      "        [[0.7115, 0.6940, 0.8793, 0.2835],\n",
      "         [0.0968, 0.8795, 0.0265, 0.5793]],\n",
      "\n",
      "        [[0.3243, 0.7865, 0.0809, 0.0622],\n",
      "         [0.8716, 0.7889, 0.8392, 0.5757]],\n",
      "\n",
      "        [[0.8090, 0.3149, 0.3720, 0.6214],\n",
      "         [0.2404, 0.5723, 0.8124, 0.8711]],\n",
      "\n",
      "        [[0.2647, 0.4951, 0.2390, 0.8743],\n",
      "         [0.2722, 0.2370, 0.2390, 0.2766]]])\n",
      "y:\n",
      " [[[0.99717784 0.6099753  0.52761275 0.10531533]\n",
      "  [0.8287301  0.68918914 0.14782333 0.56279254]]\n",
      "\n",
      " [[0.7115108  0.69396335 0.8793264  0.28351033]\n",
      "  [0.09684956 0.8794744  0.02647853 0.579269  ]]\n",
      "\n",
      " [[0.32432497 0.78649956 0.0809238  0.06221998]\n",
      "  [0.87163097 0.7888603  0.83916575 0.5757156 ]]\n",
      "\n",
      " [[0.8090093  0.31489182 0.37200987 0.62142783]\n",
      "  [0.24040425 0.5722679  0.81243503 0.8710725 ]]\n",
      "\n",
      " [[0.2647258  0.49509072 0.23898214 0.87428975]\n",
      "  [0.2721774  0.23704594 0.23904783 0.27664274]]] \n",
      " checking tye type of the y: <class 'numpy.ndarray'>\n"
     ]
    }
   ],
   "source": [
    "#converting the tensor to the numpy without using the .copy() function  \n",
    "import numpy as np\n",
    "#creating the tensor with the shape of the 5*2*4\n",
    "x=torch.rand(5,2,4)\n",
    "print(\"x:\\n\",x)\n",
    "#converting the x into numpy \n",
    "y=x.numpy()#warniing  #if you dont use the copy  function means the x,y will shape the same memory location later if we chang x automatically y wwill also change so that's why we use the xopy fuction to avoid this  \n",
    "print(\"y:\\n\",y,\"\\n checking tye type of the y:\",type(y))"
   ]
  },
  {
   "cell_type": "code",
   "execution_count": 83,
   "id": "5a2407ea",
   "metadata": {},
   "outputs": [
    {
     "name": "stdout",
     "output_type": "stream",
     "text": [
      "tensor([[[1.9972, 1.6100, 1.5276, 1.1053],\n",
      "         [1.8287, 1.6892, 1.1478, 1.5628]],\n",
      "\n",
      "        [[1.7115, 1.6940, 1.8793, 1.2835],\n",
      "         [1.0968, 1.8795, 1.0265, 1.5793]],\n",
      "\n",
      "        [[1.3243, 1.7865, 1.0809, 1.0622],\n",
      "         [1.8716, 1.7889, 1.8392, 1.5757]],\n",
      "\n",
      "        [[1.8090, 1.3149, 1.3720, 1.6214],\n",
      "         [1.2404, 1.5723, 1.8124, 1.8711]],\n",
      "\n",
      "        [[1.2647, 1.4951, 1.2390, 1.8743],\n",
      "         [1.2722, 1.2370, 1.2390, 1.2766]]]) [[[1.9971778 1.6099753 1.5276127 1.1053153]\n",
      "  [1.8287301 1.6891892 1.1478233 1.5627925]]\n",
      "\n",
      " [[1.7115108 1.6939633 1.8793263 1.2835103]\n",
      "  [1.0968496 1.8794744 1.0264785 1.5792689]]\n",
      "\n",
      " [[1.324325  1.7864995 1.0809238 1.06222  ]\n",
      "  [1.8716309 1.7888603 1.8391657 1.5757155]]\n",
      "\n",
      " [[1.8090093 1.3148918 1.3720099 1.6214278]\n",
      "  [1.2404042 1.5722679 1.812435  1.8710725]]\n",
      "\n",
      " [[1.2647258 1.4950907 1.2389822 1.8742898]\n",
      "  [1.2721775 1.237046  1.2390478 1.2766428]]]\n"
     ]
    }
   ],
   "source": [
    "x.add_(1)\n",
    "print(x,y)"
   ]
  },
  {
   "cell_type": "code",
   "execution_count": 85,
   "id": "6a70914c",
   "metadata": {},
   "outputs": [
    {
     "data": {
      "text/plain": [
       "tensor([[[0.5214, 0.8508, 0.0377, 0.7780],\n",
       "         [0.2785, 0.4262, 0.7226, 0.7943]],\n",
       "\n",
       "        [[0.2266, 0.4693, 0.1828, 0.1708],\n",
       "         [0.2064, 0.0664, 0.6279, 0.1830]],\n",
       "\n",
       "        [[0.0222, 0.0828, 0.9143, 0.9465],\n",
       "         [0.1131, 0.1268, 0.9956, 0.5850]],\n",
       "\n",
       "        [[0.5685, 0.7654, 0.0260, 0.2312],\n",
       "         [0.9070, 0.7058, 0.0782, 0.0509]],\n",
       "\n",
       "        [[0.7021, 0.1169, 0.0221, 0.7913],\n",
       "         [0.8809, 0.4356, 0.8348, 0.0911]]], requires_grad=True)"
      ]
     },
     "execution_count": 85,
     "metadata": {},
     "output_type": "execute_result"
    }
   ],
   "source": [
    "#while creating the tensors we use the requires_grad\n",
    "#requires_grad used  tell that pytorch need to  calculate the gradients for this tensor in later in the optimazition steps \n",
    "#when ever there is a variable in the model that need to be optimized then we need to specity the requires_grad=Ture\n",
    "#creating the tensor with the argument of the requires_grad=True\n",
    "x= torch.rand(5,2,4,requires_grad=True)\n",
    "x"
   ]
  },
  {
   "cell_type": "code",
   "execution_count": null,
   "id": "28b42dc7",
   "metadata": {},
   "outputs": [],
   "source": []
  }
 ],
 "metadata": {
  "kernelspec": {
   "display_name": "Python 3 (ipykernel)",
   "language": "python",
   "name": "python3"
  },
  "language_info": {
   "codemirror_mode": {
    "name": "ipython",
    "version": 3
   },
   "file_extension": ".py",
   "mimetype": "text/x-python",
   "name": "python",
   "nbconvert_exporter": "python",
   "pygments_lexer": "ipython3",
   "version": "3.9.0"
  }
 },
 "nbformat": 4,
 "nbformat_minor": 5
}
