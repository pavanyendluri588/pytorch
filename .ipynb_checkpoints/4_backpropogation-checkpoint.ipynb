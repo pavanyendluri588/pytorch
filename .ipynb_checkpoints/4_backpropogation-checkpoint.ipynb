{
 "cells": [
  {
   "cell_type": "code",
   "execution_count": 2,
   "id": "de22260e",
   "metadata": {},
   "outputs": [],
   "source": [
    "import torch"
   ]
  },
  {
   "cell_type": "code",
   "execution_count": 24,
   "id": "e2ce6aa0",
   "metadata": {},
   "outputs": [
    {
     "data": {
      "text/plain": [
       "1.0"
      ]
     },
     "execution_count": 24,
     "metadata": {},
     "output_type": "execute_result"
    }
   ],
   "source": [
    "#backpropogation perform the backward pass to adjust the modal parameters to minimize the mean sqare error\n",
    "\"\"\"\n",
    "it is a process involved in the training of the neural network .\n",
    "it involves in the taking the output of the feed forward network  and calculate the loss \n",
    "it use the loadd  and perform the backword pass to adjust the model parameters to minimize the loss or mean aware error \n",
    "\n",
    "in the backpropogation we will calculate the deratives \n",
    "\"\"\"\n",
    "\n",
    "#operations are  performed in the backpropogation \n",
    "1."
   ]
  },
  {
   "cell_type": "code",
   "execution_count": 34,
   "id": "7154f07b",
   "metadata": {},
   "outputs": [],
   "source": [
    "#creatuing the thesor \n",
    "x=torch.tensor(4.0,requires_grad=True)"
   ]
  },
  {
   "cell_type": "code",
   "execution_count": 35,
   "id": "a1f89af6",
   "metadata": {},
   "outputs": [
    {
     "data": {
      "text/plain": [
       "tensor(16., grad_fn=<PowBackward0>)"
      ]
     },
     "execution_count": 35,
     "metadata": {},
     "output_type": "execute_result"
    }
   ],
   "source": [
    "y=x**2\n",
    "#deratie(x**n)=n*x**(n-1)\n",
    "#x**2---->derative(x**2)=2x\n",
    "y"
   ]
  },
  {
   "cell_type": "code",
   "execution_count": 36,
   "id": "23df04db",
   "metadata": {},
   "outputs": [
    {
     "data": {
      "text/plain": [
       "tensor(16., grad_fn=<PowBackward0>)"
      ]
     },
     "execution_count": 36,
     "metadata": {},
     "output_type": "execute_result"
    }
   ],
   "source": [
    "#performanning the backword function\n",
    "y.backward()\n",
    "y"
   ]
  },
  {
   "cell_type": "code",
   "execution_count": 38,
   "id": "0a3c769f",
   "metadata": {},
   "outputs": [
    {
     "data": {
      "text/plain": [
       "tensor(8.)"
      ]
     },
     "execution_count": 38,
     "metadata": {},
     "output_type": "execute_result"
    }
   ],
   "source": [
    "#getting the gradient of the x\n",
    "x.grad     #2x"
   ]
  },
  {
   "cell_type": "code",
   "execution_count": 42,
   "id": "6c0d691b",
   "metadata": {},
   "outputs": [
    {
     "data": {
      "text/plain": [
       "tensor([[1., 2., 3., 4., 5., 6., 7., 8., 9.],\n",
       "        [9., 8., 7., 6., 5., 4., 3., 2., 1.],\n",
       "        [1., 2., 3., 4., 5., 6., 7., 8., 9.],\n",
       "        [9., 8., 7., 6., 5., 4., 3., 2., 1.]], requires_grad=True)"
      ]
     },
     "execution_count": 42,
     "metadata": {},
     "output_type": "execute_result"
    }
   ],
   "source": [
    "#creating the complex tensor \n",
    "x=torch.tensor([[1.,2.,3.,4.,5.,6.,7.,8.,9.],[9.,8.,7.,6.,5.,4.,3.,2.,1.],[1.,2.,3.,4.,5.,6.,7.,8.,9.],[9.,8.,7.,6.,5.,4.,3.,2.,1.]],requires_grad=True)\n",
    "x"
   ]
  },
  {
   "cell_type": "code",
   "execution_count": 55,
   "id": "b5df2e87",
   "metadata": {},
   "outputs": [
    {
     "data": {
      "text/plain": [
       "tensor([[  2.,  12.,  36.,  80., 150., 252., 392., 576., 810.],\n",
       "        [810., 576., 392., 252., 150.,  80.,  36.,  12.,   2.],\n",
       "        [  2.,  12.,  36.,  80., 150., 252., 392., 576., 810.],\n",
       "        [810., 576., 392., 252., 150.,  80.,  36.,  12.,   2.]],\n",
       "       grad_fn=<AddBackward0>)"
      ]
     },
     "execution_count": 55,
     "metadata": {},
     "output_type": "execute_result"
    }
   ],
   "source": [
    "y=x**3+x**2    #derative(x**3+x**2)=3x**2+2x\n",
    "y.sum().backward()\n",
    "y"
   ]
  },
  {
   "cell_type": "code",
   "execution_count": 48,
   "id": "7ff603d3",
   "metadata": {},
   "outputs": [
    {
     "data": {
      "text/plain": [
       "tensor([[  5.,  16.,  33.,  56.,  85., 120., 161., 208., 261.],\n",
       "        [261., 208., 161., 120.,  85.,  56.,  33.,  16.,   5.],\n",
       "        [  5.,  16.,  33.,  56.,  85., 120., 161., 208., 261.],\n",
       "        [261., 208., 161., 120.,  85.,  56.,  33.,  16.,   5.]])"
      ]
     },
     "execution_count": 48,
     "metadata": {},
     "output_type": "execute_result"
    }
   ],
   "source": [
    "x.grad"
   ]
  },
  {
   "cell_type": "code",
   "execution_count": 63,
   "id": "83fd84b5",
   "metadata": {},
   "outputs": [
    {
     "data": {
      "text/plain": [
       "tensor([[  5.,  16.,  33.,  56.,  85., 120., 161., 208., 261.],\n",
       "        [261., 208., 161., 120.,  85.,  56.,  33.,  16.,   5.],\n",
       "        [  5.,  16.,  33.,  56.,  85., 120., 161., 208., 261.],\n",
       "        [261., 208., 161., 120.,  85.,  56.,  33.,  16.,   5.]],\n",
       "       grad_fn=<AddBackward0>)"
      ]
     },
     "execution_count": 63,
     "metadata": {},
     "output_type": "execute_result"
    }
   ],
   "source": [
    "3*x**2+2*x"
   ]
  },
  {
   "cell_type": "code",
   "execution_count": null,
   "id": "51efa5cb",
   "metadata": {},
   "outputs": [],
   "source": []
  }
 ],
 "metadata": {
  "kernelspec": {
   "display_name": "Python 3 (ipykernel)",
   "language": "python",
   "name": "python3"
  },
  "language_info": {
   "codemirror_mode": {
    "name": "ipython",
    "version": 3
   },
   "file_extension": ".py",
   "mimetype": "text/x-python",
   "name": "python",
   "nbconvert_exporter": "python",
   "pygments_lexer": "ipython3",
   "version": "3.9.0"
  }
 },
 "nbformat": 4,
 "nbformat_minor": 5
}
